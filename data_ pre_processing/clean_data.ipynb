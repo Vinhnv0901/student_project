{
  "nbformat": 4,
  "nbformat_minor": 0,
  "metadata": {
    "colab": {
      "provenance": [],
      "authorship_tag": "ABX9TyNoF8VQ5WfPcySTNu91HC8s",
      "include_colab_link": true
    },
    "kernelspec": {
      "name": "python3",
      "display_name": "Python 3"
    },
    "language_info": {
      "name": "python"
    }
  },
  "cells": [
    {
      "cell_type": "markdown",
      "metadata": {
        "id": "view-in-github",
        "colab_type": "text"
      },
      "source": [
        "<a href=\"https://colab.research.google.com/github/Vinhnv0901/student_project/blob/master/clean_data.ipynb\" target=\"_parent\"><img src=\"https://colab.research.google.com/assets/colab-badge.svg\" alt=\"Open In Colab\"/></a>"
      ]
    },
    {
      "cell_type": "code",
      "execution_count": null,
      "metadata": {
        "id": "zbCnA5vUAcoM"
      },
      "outputs": [],
      "source": [
        "import pandas as pd\n",
        "import os\n",
        "import zipfile\n",
        "import numpy as np\n",
        "import matplotlib.pyplot as plt\n",
        "import string\n",
        "from sklearn.model_selection import train_test_split"
      ]
    },
    {
      "cell_type": "markdown",
      "source": [
        "#load data"
      ],
      "metadata": {
        "id": "vmwoAXP_A_TV"
      }
    },
    {
      "cell_type": "code",
      "source": [
        "!git clone \"https://github.com/Vinhnv0901/student_project.git\""
      ],
      "metadata": {
        "id": "cKCda7nWAriH"
      },
      "execution_count": null,
      "outputs": []
    },
    {
      "cell_type": "code",
      "source": [
        "data_grade = pd.read_excel(\"/content/student_project/Education_dataset_V2/02.diem.xlsx\")\n",
        "data_inf = pd.read_excel(\"/content/student_project/Education_dataset_V2/01.sinhvien.xlsx\")"
      ],
      "metadata": {
        "id": "Qr356-a2AueB"
      },
      "execution_count": null,
      "outputs": []
    },
    {
      "cell_type": "code",
      "source": [
        "data_inf = data_inf[['mssv', ' namsinh', ' gioitinh', ' noisinh', ' lopsh', ' khoa', ' hedt', ' khoahoc', ' chuyennganh2',' tinhtrang']]\n",
        "data_inf.columns = ['mssv', 'namsinh', 'gioitinh', 'noisinh', 'lopsh', 'khoa', 'hedt', 'khoahoc', 'chuyennganh2','tinhtrang']\n",
        "data_grade = data_grade[['mssv', ' mamh', ' malop', ' sotc', ' namhoc', ' hocky', ' diem', ' trangthai', ' mamh_tt']]\n",
        "data_grade.columns = ['mssv', 'mamh', 'malop', 'sotc', 'namhoc', 'hocky', 'diem', 'trangthai', 'mamh_tt']"
      ],
      "metadata": {
        "id": "na76ao0CBPum"
      },
      "execution_count": null,
      "outputs": []
    },
    {
      "cell_type": "markdown",
      "source": [
        "#merge student table and grade table"
      ],
      "metadata": {
        "id": "fSi_2ChEBgDZ"
      }
    },
    {
      "cell_type": "code",
      "source": [
        "data_merge = pd.merge(data_grade, data_inf, on = 'mssv', how = 'inner')"
      ],
      "metadata": {
        "id": "zlxZx5OqBUQG"
      },
      "execution_count": null,
      "outputs": []
    },
    {
      "cell_type": "code",
      "source": [
        "print('the number of nan value each columns:',{col: list(pd.isna(data_merge[col])).count(True) for col in data_merge.columns})"
      ],
      "metadata": {
        "id": "UM1Ixdx7Bek-"
      },
      "execution_count": null,
      "outputs": []
    },
    {
      "cell_type": "markdown",
      "source": [
        "#clean data"
      ],
      "metadata": {
        "id": "eEg84KknBtxG"
      }
    },
    {
      "cell_type": "code",
      "source": [
        "data_merge = data_merge.dropna(subset = ['diem'])#xóa các dòng có giá trị nan trong cột điểm \n",
        "data_merge['diem'] = data_merge['diem'].replace(' NULL', np.nan)#chuyển đổi NUll về nan để thêm giá trị\n",
        "data_merge['diem'] = data_merge['diem'].fillna(method = 'ffill')# thêm giá trị điểm có các dùng nan\n",
        "data_merge = data_merge.astype(dtype = {'namhoc': np.int32, 'diem': np.float32})\n",
        "data_merge = data_merge.drop(data_merge[data_merge['namhoc'] == 2012].index)#xóa các dòng năm 2012 vì dữ liệu quá ít\n",
        "#khóa khoảng trắng các cột mamh, khoa, khoaMH\n",
        "data_merge['mamh'] = data_merge['mamh'].str.strip()\n",
        "data_merge['khoa'] = data_merge['khoa'].str.strip()\n",
        "data_merge = data_merge.reset_index()"
      ],
      "metadata": {
        "id": "64KnsefnBxqW"
      },
      "execution_count": null,
      "outputs": []
    },
    {
      "cell_type": "markdown",
      "source": [
        "#add column cate of course"
      ],
      "metadata": {
        "id": "K_DedpDzB9mj"
      }
    },
    {
      "cell_type": "code",
      "source": [
        "#Xác định môn học thuộc khoa nào\n",
        "mamh = data_merge['mamh'].copy()\n",
        "for i in range(data_merge.shape[0]):\n",
        "  mamh[i] = mamh[i].translate(str.maketrans(\"\",\"\", '0123456789'))\n",
        "a = mamh.unique() #các mã môn học đại diện cho khoa quản lý\n",
        "b = ['MHKT', 'KTMT', 'HTTT', 'HTTT', 'PĐTĐH', 'BMTL', 'KHMT', 'PĐTĐH', 'HTTT', 'HTTT', 'BMAV', 'MMT&TT', 'CNPM', 'BMAV', 'HTTT', 'KTTT', 'HTTT', 'KTMT', 'CNPM', 'HTTT', 'HTTT', 'HTTT','HTTT', 'PĐTĐH', 'PĐTĐH'] # các khoa\n",
        "mamh.replace(to_replace = a, value = b, inplace = True)\n",
        "for i in range(data_merge.shape[0]):#các nhóm môn học có của cái đầu là 'IT' cần được điều chỉnh lại\n",
        "  ma = data_merge.loc[i,'mamh']\n",
        "  if ma == 'IT001' or ma == 'IT003' or ma == 'IT011' or ma == 'IT013':\n",
        "    mamh[i] = 'KHMT'\n",
        "  elif ma == 'IT002' or ma == 'IT008':\n",
        "    mamh[i] = 'CNPM'\n",
        "  elif ma == 'IT004':\n",
        "    mamh[i] = 'HTTT'\n",
        "  elif ma == 'IT005':\n",
        "    mamh[i] = 'MMT&TT'\n",
        "  elif ma == 'IT006' or ma == 'IT007' or ma =='IT010' or ma == 'IT012':\n",
        "    mamh[i] = 'KTMT'\n",
        "  elif ma == 'IT009':\n",
        "    mamh[i] = 'PĐTĐH'\n",
        "data_merge['KhoaMH'] = np.array(mamh)"
      ],
      "metadata": {
        "id": "2bvuZTr4B8I6"
      },
      "execution_count": null,
      "outputs": []
    },
    {
      "cell_type": "markdown",
      "source": [
        "#remove third semester of the year"
      ],
      "metadata": {
        "id": "kOa_JPmbCQq0"
      }
    },
    {
      "cell_type": "code",
      "source": [
        "\n",
        "data_merge = data_merge.drop(data_merge[data_merge['hocky'] == 3].index)#xóa các dòng chứa học kỳ hè vì nó chỉ chiếm 2% trong dataset\n",
        "data_merge = data_merge.reset_index()"
      ],
      "metadata": {
        "id": "dKCtqAFUCQPR"
      },
      "execution_count": null,
      "outputs": []
    },
    {
      "cell_type": "markdown",
      "source": [
        "#add column semester of each enroll"
      ],
      "metadata": {
        "id": "mWC9T0vUCsVy"
      }
    },
    {
      "cell_type": "code",
      "source": [
        "#Đầu tiên xác định xem sinh viên nhập học năm mấy\n",
        "khoaHoc = data_merge['khoahoc'].copy()\n",
        "lis = np.unique(khoaHoc)\n",
        "lis_replace = np.array([2013, 2014, 2015, 2016])\n",
        "khoaHoc.replace(to_replace = lis, value = lis_replace, inplace = True)\n",
        "data_merge['namNhapHoc'] = khoaHoc\n",
        "#Tính học kỳ của của từng đăng ký\n",
        "data_merge['soHocKy'] = (data_merge['namhoc'] - data_merge['namNhapHoc'])*2 + data_merge['hocky']"
      ],
      "metadata": {
        "id": "z9Bnp5qqCpKm"
      },
      "execution_count": null,
      "outputs": []
    },
    {
      "cell_type": "markdown",
      "source": [
        "#Divide train and test:\n",
        "##80% students train and 20% students test\n",
        "##recommend courses of two terms in 2016"
      ],
      "metadata": {
        "id": "8TShhyDrC7j7"
      }
    },
    {
      "cell_type": "code",
      "source": [
        "listStudent = np.unique(data_merge['mssv'])\n",
        "student_train, student_test = train_test_split(listStudent, test_size=0.2, random_state=42)\n",
        "\n",
        "data_train = data_merge[data_merge['mssv'].isin(student_train)]\n",
        "data_test = data_merge[data_merge['mssv'].isin(student_test) & data_merge['namhoc'].isin([2013, 2014, 2015])]"
      ],
      "metadata": {
        "id": "ZajrVMaKC6z0"
      },
      "execution_count": null,
      "outputs": []
    }
  ]
}