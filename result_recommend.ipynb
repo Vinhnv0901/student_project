{
  "nbformat": 4,
  "nbformat_minor": 0,
  "metadata": {
    "colab": {
      "provenance": [],
      "authorship_tag": "ABX9TyMHM0kG0McvhAiN6ULYdmbu",
      "include_colab_link": true
    },
    "kernelspec": {
      "name": "python3",
      "display_name": "Python 3"
    },
    "language_info": {
      "name": "python"
    }
  },
  "cells": [
    {
      "cell_type": "markdown",
      "metadata": {
        "id": "view-in-github",
        "colab_type": "text"
      },
      "source": [
        "<a href=\"https://colab.research.google.com/github/Vinhnv0901/student_project/blob/master/result_recommend.ipynb\" target=\"_parent\"><img src=\"https://colab.research.google.com/assets/colab-badge.svg\" alt=\"Open In Colab\"/></a>"
      ]
    },
    {
      "cell_type": "code",
      "execution_count": 21,
      "metadata": {
        "id": "_oA_y2gq6K8B"
      },
      "outputs": [],
      "source": [
        "import pandas as pd\n",
        "import os\n",
        "import zipfile\n",
        "import numpy as np\n",
        "import matplotlib.pyplot as plt\n",
        "import string\n",
        "from sklearn.model_selection import train_test_split"
      ]
    },
    {
      "cell_type": "code",
      "source": [
        "!git clone \"https://github.com/Vinhnv0901/student_project.git\""
      ],
      "metadata": {
        "colab": {
          "base_uri": "https://localhost:8080/"
        },
        "id": "AmLT6Rs58qb7",
        "outputId": "c50d3ed1-ccad-47eb-a020-265e4f26698b"
      },
      "execution_count": 22,
      "outputs": [
        {
          "output_type": "stream",
          "name": "stdout",
          "text": [
            "fatal: destination path 'student_project' already exists and is not an empty directory.\n"
          ]
        }
      ]
    },
    {
      "cell_type": "markdown",
      "source": [
        "# load data from github"
      ],
      "metadata": {
        "id": "qFAYZfv684Nn"
      }
    },
    {
      "cell_type": "code",
      "source": [
        "IS = pd.read_excel(\"/content/student_project/IS.xlsx\")\n",
        "TS = pd.read_excel(\"/content/student_project/TS.xlsx\")\n",
        "GS = pd.read_excel(\"/content/student_project/GS.xlsx\")\n",
        "GS_replace = pd.read_excel(\"/content/student_project/GS_replace.xlsx\")\n",
        "data_train = pd.read_excel(\"/content/student_project/data_train.xlsx\")\n",
        "data_test = pd.read_excel(\"/content/student_project/data_test.xlsx\")\n",
        "data_merge = pd.read_excel(\"/content/student_project/data_merge.xlsx\")"
      ],
      "metadata": {
        "id": "ac-SaLyB8zex"
      },
      "execution_count": 23,
      "outputs": []
    },
    {
      "cell_type": "code",
      "source": [
        "IS.index = IS['mssv']\n",
        "GS.index = GS['mssv']\n",
        "TS.index = TS['mamh']\n",
        "GS_replace.index = GS_replace['mssv']"
      ],
      "metadata": {
        "id": "P3jOIJOZ86Lj"
      },
      "execution_count": 25,
      "outputs": []
    },
    {
      "cell_type": "code",
      "source": [
        "student_test = GS.index"
      ],
      "metadata": {
        "id": "95vb3SBv8_RS"
      },
      "execution_count": 26,
      "outputs": []
    },
    {
      "cell_type": "code",
      "source": [
        "IS = IS[IS['mssv'].isin(student_test)]"
      ],
      "metadata": {
        "id": "IH7pD7UK9BU7"
      },
      "execution_count": 27,
      "outputs": []
    },
    {
      "cell_type": "markdown",
      "source": [
        "#label học kỳ một của năm 2016"
      ],
      "metadata": {
        "id": "y237TWT59IDQ"
      }
    },
    {
      "cell_type": "code",
      "source": [
        "data_label_test_1 = data_merge[data_merge['mssv'].isin(student_test) & (data_merge['namhoc'] ==2016 ) & (data_merge['hocky'] == 1)]"
      ],
      "metadata": {
        "id": "1SDxqTr59GnZ"
      },
      "execution_count": 28,
      "outputs": []
    },
    {
      "cell_type": "code",
      "source": [
        "label_test_1 = []\n",
        "for i in range(student_test.shape[0]):\n",
        "  stu = data_label_test_1[data_label_test_1['mssv'] == student_test[i]]\n",
        "  if stu.empty:\n",
        "    label_test_1.append([])\n",
        "  else:\n",
        "    label_test_1.append(stu['mamh'].tolist())"
      ],
      "metadata": {
        "id": "CifxpKx29Ocw"
      },
      "execution_count": 29,
      "outputs": []
    },
    {
      "cell_type": "markdown",
      "source": [
        "#label học kỳ hai của năm 2016"
      ],
      "metadata": {
        "id": "jWh8q-RI9P8P"
      }
    },
    {
      "cell_type": "code",
      "source": [
        "data_label_test_2 = data_merge[data_merge['mssv'].isin(student_test) & (data_merge['namhoc'] ==2016 ) & (data_merge['hocky'] == 2)]"
      ],
      "metadata": {
        "id": "z-scSl0E9Tln"
      },
      "execution_count": 30,
      "outputs": []
    },
    {
      "cell_type": "code",
      "source": [
        "label_test_2 = []\n",
        "for i in range(student_test.shape[0]):\n",
        "  stu = data_label_test_2[data_label_test_2['mssv'] == student_test[i]]\n",
        "  if stu.empty:\n",
        "    label_test_2.append([])\n",
        "  else:\n",
        "    label_test_2.append(stu['mamh'].tolist())"
      ],
      "metadata": {
        "id": "X1ug68d19Xnd"
      },
      "execution_count": 31,
      "outputs": []
    },
    {
      "cell_type": "markdown",
      "source": [
        "#xóa các cột index để dễ tính toán"
      ],
      "metadata": {
        "id": "pCO6KF-79xol"
      }
    },
    {
      "cell_type": "code",
      "source": [
        "IS = IS.drop('mssv', axis = 1)\n",
        "TS = TS.drop('mamh', axis = 1)\n",
        "GS = GS.drop('mssv', axis = 1)\n",
        "GS_replace = GS_replace.drop('mssv', axis = 1)"
      ],
      "metadata": {
        "id": "C7n-KmPa9ysM"
      },
      "execution_count": 32,
      "outputs": []
    },
    {
      "cell_type": "markdown",
      "source": [
        "#dự đoán ra k môn có Score cao nhất\n",
        "##dự đoán trên Interest score"
      ],
      "metadata": {
        "id": "MIE3UagU95Tx"
      }
    },
    {
      "cell_type": "code",
      "source": [
        "k = 15\n",
        "IS_k = IS.apply(lambda row: row.nlargest(k), axis=1)"
      ],
      "metadata": {
        "id": "7OQiVzFF932w"
      },
      "execution_count": 14,
      "outputs": []
    },
    {
      "cell_type": "code",
      "source": [
        "predict_IS = []\n",
        "for i in range(IS_k.shape[0]):\n",
        "  pre = []\n",
        "  for j in range(IS_k.shape[1]):\n",
        "    if not pd.isna(IS_k.iloc[i,j]):\n",
        "      pre.append(IS_k.columns[j])\n",
        "  predict_IS.append(pre)"
      ],
      "metadata": {
        "id": "yOtv2yvY-C9K"
      },
      "execution_count": 15,
      "outputs": []
    },
    {
      "cell_type": "code",
      "source": [
        "predict_IS[2]"
      ],
      "metadata": {
        "colab": {
          "base_uri": "https://localhost:8080/"
        },
        "id": "DbNpBRvNK_4C",
        "outputId": "860516de-9c31-4e54-a1e5-1df6e1a29848"
      },
      "execution_count": 17,
      "outputs": [
        {
          "output_type": "execute_result",
          "data": {
            "text/plain": [
              "['EN004',\n",
              " 'ENBT',\n",
              " 'IT001',\n",
              " 'IT002',\n",
              " 'IT003',\n",
              " 'IT004',\n",
              " 'IT005',\n",
              " 'IT006',\n",
              " 'IT009',\n",
              " 'MA001',\n",
              " 'MA002',\n",
              " 'MA003',\n",
              " 'PE001',\n",
              " 'PH001',\n",
              " 'PH002']"
            ]
          },
          "metadata": {},
          "execution_count": 17
        }
      ]
    },
    {
      "cell_type": "code",
      "source": [
        "recall = []\n",
        "precision = []\n",
        "for i in range(student_test.shape[0]):\n",
        "  lab = label_test_1[i]\n",
        "  pre = predict_IS[i]\n",
        "  if pre:\n",
        "    true_true = set(lab) & set(pre)\n",
        "    if true_true:\n",
        "      recall.append(len(true_true)/len(lab))\n",
        "      precision.append(len(true_true)/len(pre))\n",
        "    else:\n",
        "      recall.append(0)\n",
        "      precision.append(0)\n",
        "r = sum(recall)/len(recall)\n",
        "p = sum(precision)/len(precision)\n",
        "f1 = (2*r*p)/(r+p)\n",
        "print('recall khi sử dụng Interest Score: ', r)\n",
        "print('precision khi sử dụng Interest Score: ', p)\n",
        "print('f1-Score khi sử dụng Interest Score: ', f1)"
      ],
      "metadata": {
        "colab": {
          "base_uri": "https://localhost:8080/"
        },
        "id": "bs_SLqfG-GnD",
        "outputId": "864f8c0c-d8d9-4d1d-dee8-de8517f7a5c4"
      },
      "execution_count": 16,
      "outputs": [
        {
          "output_type": "stream",
          "name": "stdout",
          "text": [
            "recall khi sử dụng Interest Score:  0.15075585789871504\n",
            "precision khi sử dụng Interest Score:  0.06020408163265302\n",
            "f1-Score khi sử dụng Interest Score:  0.08604589094684806\n"
          ]
        }
      ]
    },
    {
      "cell_type": "markdown",
      "source": [
        "## dự đoán dựa trên Timing and popularity based Score"
      ],
      "metadata": {
        "id": "J7XQxR-d-NoH"
      }
    },
    {
      "cell_type": "code",
      "source": [
        "k = 15\n",
        "TS_k = TS.apply(lambda row: row.nlargest(k), axis=0)"
      ],
      "metadata": {
        "id": "gV_lQEgz-Mck"
      },
      "execution_count": 18,
      "outputs": []
    },
    {
      "cell_type": "code",
      "source": [
        "predict_TS = []\n",
        "for i in range(TS_k.shape[1]):\n",
        "  pre = []\n",
        "  for j in range(TS_k.shape[0]):\n",
        "    if not pd.isna(TS_k.iloc[j,i]):\n",
        "      pre.append(TS_k.index[j])\n",
        "  predict_TS.append(pre)"
      ],
      "metadata": {
        "id": "BpwKjBliBeiJ"
      },
      "execution_count": 19,
      "outputs": []
    },
    {
      "cell_type": "code",
      "source": [
        "recall = []\n",
        "precision = []\n",
        "for i in range(student_test.shape[0]):\n",
        "  stu = data_label_test_1[data_label_test_1['mssv'] == student_test[i]]\n",
        "  if not stu.empty:\n",
        "    term = stu.loc[stu.index[0], 'soHocKy']\n",
        "    lab = label_test_1[i]\n",
        "    pre = predict_TS[term - 1]\n",
        "    true_true = set(lab) & set(pre)\n",
        "    if true_true:\n",
        "      recall.append(len(true_true)/len(lab))\n",
        "      precision.append(len(true_true)/len(pre))\n",
        "    else:\n",
        "      recall.append(0)\n",
        "      precision.append(0)\n",
        "r = sum(recall)/len(recall)\n",
        "p = sum(precision)/len(precision)\n",
        "f1 = (2*r*p)/(r+p)\n",
        "print('recall khi sử dụng Interest Score: ', r)\n",
        "print('precision khi sử dụng Interest Score: ', p)\n",
        "print('f1-Score khi sử dụng Interest Score: ', f1)"
      ],
      "metadata": {
        "colab": {
          "base_uri": "https://localhost:8080/"
        },
        "id": "gG0TvtGmCxR5",
        "outputId": "29e8ce3d-a217-40c7-d8ed-84ac68c7e913"
      },
      "execution_count": 20,
      "outputs": [
        {
          "output_type": "stream",
          "name": "stdout",
          "text": [
            "recall khi sử dụng Interest Score:  0.3903619413216345\n",
            "precision khi sử dụng Interest Score:  0.15099168266154825\n",
            "f1-Score khi sử dụng Interest Score:  0.2177556545516473\n"
          ]
        }
      ]
    },
    {
      "cell_type": "markdown",
      "source": [
        "##dự đoán dựa trên Grade-based Score"
      ],
      "metadata": {
        "id": "lHPGCH3pFoIV"
      }
    },
    {
      "cell_type": "code",
      "source": [
        "k = 15\n",
        "GS_k = GS.apply(lambda row: row.nlargest(k), axis=1)"
      ],
      "metadata": {
        "id": "amLhgicBFlpN"
      },
      "execution_count": null,
      "outputs": []
    },
    {
      "cell_type": "code",
      "source": [
        "predict_GS = []\n",
        "for i in range(GS_k.shape[0]):\n",
        "  pre = []\n",
        "  for j in range(GS_k.shape[1]):\n",
        "    if not pd.isna(GS_k.iloc[i,j]):\n",
        "      pre.append(GS_k.columns[j])\n",
        "  predict_GS.append(pre)"
      ],
      "metadata": {
        "id": "iGE2WWMeGCV6"
      },
      "execution_count": null,
      "outputs": []
    },
    {
      "cell_type": "code",
      "source": [
        "recall = []\n",
        "precision = []\n",
        "for i in range(student_test.shape[0]):\n",
        "  lab = label_test_1[i]\n",
        "  pre = predict_GS[i]\n",
        "  if pre:\n",
        "    true_true = set(lab) & set(pre)\n",
        "    if true_true:\n",
        "      recall.append(len(true_true)/len(lab))\n",
        "      precision.append(len(true_true)/len(pre))\n",
        "    else:\n",
        "      recall.append(0)\n",
        "      precision.append(0)\n",
        "r = sum(recall)/len(recall)\n",
        "p = sum(precision)/len(precision)\n",
        "f1 = (2*r*p)/(r+p)\n",
        "print('recall khi sử dụng Interest Score: ', r)\n",
        "print('precision khi sử dụng Interest Score: ', p)\n",
        "print('f1-Score khi sử dụng Interest Score: ', f1)"
      ],
      "metadata": {
        "colab": {
          "base_uri": "https://localhost:8080/"
        },
        "id": "hJoUjLikGIip",
        "outputId": "a1832d9c-8844-4977-ce60-5f56e4590d9f"
      },
      "execution_count": null,
      "outputs": [
        {
          "output_type": "stream",
          "name": "stdout",
          "text": [
            "recall khi sử dụng Interest Score:  0.04626928723787358\n",
            "precision khi sử dụng Interest Score:  0.01780104712041883\n",
            "f1-Score khi sử dụng Interest Score:  0.02571054983867054\n"
          ]
        }
      ]
    },
    {
      "cell_type": "code",
      "source": [
        "course_grade_train = pd.read_excel(\"/content/student_project/course_grade_train.xlsx\")"
      ],
      "metadata": {
        "id": "ogtMSqnvI2jE"
      },
      "execution_count": null,
      "outputs": []
    },
    {
      "cell_type": "code",
      "source": [
        "course_grade_train.head(10)"
      ],
      "metadata": {
        "colab": {
          "base_uri": "https://localhost:8080/",
          "height": 456
        },
        "id": "ismtX109JKbE",
        "outputId": "313a92c7-c524-4fd5-c0d5-e7f8508ebb53"
      },
      "execution_count": null,
      "outputs": [
        {
          "output_type": "execute_result",
          "data": {
            "text/plain": [
              "   ADENG1  ADENG2  ADENG3  CE101  CE103  CE104  CE105  CE107  CE114  CE117  \\\n",
              "0     0.0     0.0     0.0    0.0    0.0    0.0    0.0    0.0      0    0.0   \n",
              "1     0.0     0.0     0.0    0.0    0.0    0.0    0.0    0.0      0    0.0   \n",
              "2     0.0     0.0     0.0    0.0    0.0    0.0    0.0    0.0      0    0.0   \n",
              "3     0.0     0.0     0.0    0.0    0.0    0.0    0.0    0.0      0    0.0   \n",
              "4     0.0     0.0     0.0    5.9    6.7    7.3    5.9    8.6      0    8.0   \n",
              "5     0.0     0.0     0.0    0.0    0.0    0.0    0.0    0.0      0    0.0   \n",
              "6     7.0     8.0     0.0    0.0    0.0    0.0    0.0    0.0      0    0.0   \n",
              "7     0.0     0.0     0.0    0.0    0.0    0.0    0.0    0.0      0    0.0   \n",
              "8     0.0     0.0     0.0    0.0    0.0    0.0    0.0    0.0      0    0.0   \n",
              "9     5.0     7.1     0.0    0.0    0.0    0.0    0.0    0.0      0    0.0   \n",
              "\n",
              "   ...  SMET2  SPCH3723  SPCH3724  SS001  SS002  SS003  SS004  SS005  \\\n",
              "0  ...      0       0.0       0.0    3.3    0.0    0.0    0.0    0.0   \n",
              "1  ...      0       0.0       0.0    6.7    5.6    0.0    8.5    0.0   \n",
              "2  ...      0       0.0       0.0    4.5    6.5    0.0    0.0    0.0   \n",
              "3  ...      0       0.0       0.0    0.0    0.0    0.0    0.0    0.0   \n",
              "4  ...      0       0.0       0.0    4.5    7.0    8.0    9.0    0.0   \n",
              "5  ...      0       0.0       0.0    0.0    0.0    0.0    0.0    0.0   \n",
              "6  ...      0       9.1      10.0    7.0    7.5    6.5    0.0    0.0   \n",
              "7  ...      0       0.0       0.0    5.0    5.2    3.0    8.3    0.0   \n",
              "8  ...      0       0.0       0.0    0.0    7.4    6.4    6.2    0.0   \n",
              "9  ...      0       6.7       8.0    6.0    7.0    5.2    0.0    0.0   \n",
              "\n",
              "   STAT4033                                      mssv  \n",
              "0       0.0  F451D99AXPvAibaEXe+fPSOag5leTcWuR+r937fj  \n",
              "1       0.0  6988D28AXPvAibaEXe9MSDlNDFbYdo3rYOhSopw2  \n",
              "2       0.0  7E308531XPvAibaEXe879+AOg1gh8i58Q/VMq7RU  \n",
              "3       0.0  DD10B95EXPvAibaEXe/PQrWCRBKWOUTASXEgaMpR  \n",
              "4       0.0  4CD37F46XPvAibaEXe8ge2UHv4J4Byyo6uzLKM42  \n",
              "5       0.0  CEF4F5F1XPvAibaEXe9ej2kTw4OUmtE+HmhDvEXe  \n",
              "6       9.7  AB4D8F99XPvAibaEXe/YKN5ysyYL7EjErJAJK5l+  \n",
              "7       0.0  D349E207XPvAibaEXe/aPLdUCtOgChkEtg7JE0Ca  \n",
              "8       0.0  C9CD6314XPvAibaEXe8LX4hhYKrFZr9FZE839SqA  \n",
              "9       7.0  D78141E5XPvAibaEXe9j81k8MH0oJ4zch8KMTSfQ  \n",
              "\n",
              "[10 rows x 222 columns]"
            ],
            "text/html": [
              "\n",
              "  <div id=\"df-0421afa6-971d-40bd-aab0-3fa36252ad7e\">\n",
              "    <div class=\"colab-df-container\">\n",
              "      <div>\n",
              "<style scoped>\n",
              "    .dataframe tbody tr th:only-of-type {\n",
              "        vertical-align: middle;\n",
              "    }\n",
              "\n",
              "    .dataframe tbody tr th {\n",
              "        vertical-align: top;\n",
              "    }\n",
              "\n",
              "    .dataframe thead th {\n",
              "        text-align: right;\n",
              "    }\n",
              "</style>\n",
              "<table border=\"1\" class=\"dataframe\">\n",
              "  <thead>\n",
              "    <tr style=\"text-align: right;\">\n",
              "      <th></th>\n",
              "      <th>ADENG1</th>\n",
              "      <th>ADENG2</th>\n",
              "      <th>ADENG3</th>\n",
              "      <th>CE101</th>\n",
              "      <th>CE103</th>\n",
              "      <th>CE104</th>\n",
              "      <th>CE105</th>\n",
              "      <th>CE107</th>\n",
              "      <th>CE114</th>\n",
              "      <th>CE117</th>\n",
              "      <th>...</th>\n",
              "      <th>SMET2</th>\n",
              "      <th>SPCH3723</th>\n",
              "      <th>SPCH3724</th>\n",
              "      <th>SS001</th>\n",
              "      <th>SS002</th>\n",
              "      <th>SS003</th>\n",
              "      <th>SS004</th>\n",
              "      <th>SS005</th>\n",
              "      <th>STAT4033</th>\n",
              "      <th>mssv</th>\n",
              "    </tr>\n",
              "  </thead>\n",
              "  <tbody>\n",
              "    <tr>\n",
              "      <th>0</th>\n",
              "      <td>0.0</td>\n",
              "      <td>0.0</td>\n",
              "      <td>0.0</td>\n",
              "      <td>0.0</td>\n",
              "      <td>0.0</td>\n",
              "      <td>0.0</td>\n",
              "      <td>0.0</td>\n",
              "      <td>0.0</td>\n",
              "      <td>0</td>\n",
              "      <td>0.0</td>\n",
              "      <td>...</td>\n",
              "      <td>0</td>\n",
              "      <td>0.0</td>\n",
              "      <td>0.0</td>\n",
              "      <td>3.3</td>\n",
              "      <td>0.0</td>\n",
              "      <td>0.0</td>\n",
              "      <td>0.0</td>\n",
              "      <td>0.0</td>\n",
              "      <td>0.0</td>\n",
              "      <td>F451D99AXPvAibaEXe+fPSOag5leTcWuR+r937fj</td>\n",
              "    </tr>\n",
              "    <tr>\n",
              "      <th>1</th>\n",
              "      <td>0.0</td>\n",
              "      <td>0.0</td>\n",
              "      <td>0.0</td>\n",
              "      <td>0.0</td>\n",
              "      <td>0.0</td>\n",
              "      <td>0.0</td>\n",
              "      <td>0.0</td>\n",
              "      <td>0.0</td>\n",
              "      <td>0</td>\n",
              "      <td>0.0</td>\n",
              "      <td>...</td>\n",
              "      <td>0</td>\n",
              "      <td>0.0</td>\n",
              "      <td>0.0</td>\n",
              "      <td>6.7</td>\n",
              "      <td>5.6</td>\n",
              "      <td>0.0</td>\n",
              "      <td>8.5</td>\n",
              "      <td>0.0</td>\n",
              "      <td>0.0</td>\n",
              "      <td>6988D28AXPvAibaEXe9MSDlNDFbYdo3rYOhSopw2</td>\n",
              "    </tr>\n",
              "    <tr>\n",
              "      <th>2</th>\n",
              "      <td>0.0</td>\n",
              "      <td>0.0</td>\n",
              "      <td>0.0</td>\n",
              "      <td>0.0</td>\n",
              "      <td>0.0</td>\n",
              "      <td>0.0</td>\n",
              "      <td>0.0</td>\n",
              "      <td>0.0</td>\n",
              "      <td>0</td>\n",
              "      <td>0.0</td>\n",
              "      <td>...</td>\n",
              "      <td>0</td>\n",
              "      <td>0.0</td>\n",
              "      <td>0.0</td>\n",
              "      <td>4.5</td>\n",
              "      <td>6.5</td>\n",
              "      <td>0.0</td>\n",
              "      <td>0.0</td>\n",
              "      <td>0.0</td>\n",
              "      <td>0.0</td>\n",
              "      <td>7E308531XPvAibaEXe879+AOg1gh8i58Q/VMq7RU</td>\n",
              "    </tr>\n",
              "    <tr>\n",
              "      <th>3</th>\n",
              "      <td>0.0</td>\n",
              "      <td>0.0</td>\n",
              "      <td>0.0</td>\n",
              "      <td>0.0</td>\n",
              "      <td>0.0</td>\n",
              "      <td>0.0</td>\n",
              "      <td>0.0</td>\n",
              "      <td>0.0</td>\n",
              "      <td>0</td>\n",
              "      <td>0.0</td>\n",
              "      <td>...</td>\n",
              "      <td>0</td>\n",
              "      <td>0.0</td>\n",
              "      <td>0.0</td>\n",
              "      <td>0.0</td>\n",
              "      <td>0.0</td>\n",
              "      <td>0.0</td>\n",
              "      <td>0.0</td>\n",
              "      <td>0.0</td>\n",
              "      <td>0.0</td>\n",
              "      <td>DD10B95EXPvAibaEXe/PQrWCRBKWOUTASXEgaMpR</td>\n",
              "    </tr>\n",
              "    <tr>\n",
              "      <th>4</th>\n",
              "      <td>0.0</td>\n",
              "      <td>0.0</td>\n",
              "      <td>0.0</td>\n",
              "      <td>5.9</td>\n",
              "      <td>6.7</td>\n",
              "      <td>7.3</td>\n",
              "      <td>5.9</td>\n",
              "      <td>8.6</td>\n",
              "      <td>0</td>\n",
              "      <td>8.0</td>\n",
              "      <td>...</td>\n",
              "      <td>0</td>\n",
              "      <td>0.0</td>\n",
              "      <td>0.0</td>\n",
              "      <td>4.5</td>\n",
              "      <td>7.0</td>\n",
              "      <td>8.0</td>\n",
              "      <td>9.0</td>\n",
              "      <td>0.0</td>\n",
              "      <td>0.0</td>\n",
              "      <td>4CD37F46XPvAibaEXe8ge2UHv4J4Byyo6uzLKM42</td>\n",
              "    </tr>\n",
              "    <tr>\n",
              "      <th>5</th>\n",
              "      <td>0.0</td>\n",
              "      <td>0.0</td>\n",
              "      <td>0.0</td>\n",
              "      <td>0.0</td>\n",
              "      <td>0.0</td>\n",
              "      <td>0.0</td>\n",
              "      <td>0.0</td>\n",
              "      <td>0.0</td>\n",
              "      <td>0</td>\n",
              "      <td>0.0</td>\n",
              "      <td>...</td>\n",
              "      <td>0</td>\n",
              "      <td>0.0</td>\n",
              "      <td>0.0</td>\n",
              "      <td>0.0</td>\n",
              "      <td>0.0</td>\n",
              "      <td>0.0</td>\n",
              "      <td>0.0</td>\n",
              "      <td>0.0</td>\n",
              "      <td>0.0</td>\n",
              "      <td>CEF4F5F1XPvAibaEXe9ej2kTw4OUmtE+HmhDvEXe</td>\n",
              "    </tr>\n",
              "    <tr>\n",
              "      <th>6</th>\n",
              "      <td>7.0</td>\n",
              "      <td>8.0</td>\n",
              "      <td>0.0</td>\n",
              "      <td>0.0</td>\n",
              "      <td>0.0</td>\n",
              "      <td>0.0</td>\n",
              "      <td>0.0</td>\n",
              "      <td>0.0</td>\n",
              "      <td>0</td>\n",
              "      <td>0.0</td>\n",
              "      <td>...</td>\n",
              "      <td>0</td>\n",
              "      <td>9.1</td>\n",
              "      <td>10.0</td>\n",
              "      <td>7.0</td>\n",
              "      <td>7.5</td>\n",
              "      <td>6.5</td>\n",
              "      <td>0.0</td>\n",
              "      <td>0.0</td>\n",
              "      <td>9.7</td>\n",
              "      <td>AB4D8F99XPvAibaEXe/YKN5ysyYL7EjErJAJK5l+</td>\n",
              "    </tr>\n",
              "    <tr>\n",
              "      <th>7</th>\n",
              "      <td>0.0</td>\n",
              "      <td>0.0</td>\n",
              "      <td>0.0</td>\n",
              "      <td>0.0</td>\n",
              "      <td>0.0</td>\n",
              "      <td>0.0</td>\n",
              "      <td>0.0</td>\n",
              "      <td>0.0</td>\n",
              "      <td>0</td>\n",
              "      <td>0.0</td>\n",
              "      <td>...</td>\n",
              "      <td>0</td>\n",
              "      <td>0.0</td>\n",
              "      <td>0.0</td>\n",
              "      <td>5.0</td>\n",
              "      <td>5.2</td>\n",
              "      <td>3.0</td>\n",
              "      <td>8.3</td>\n",
              "      <td>0.0</td>\n",
              "      <td>0.0</td>\n",
              "      <td>D349E207XPvAibaEXe/aPLdUCtOgChkEtg7JE0Ca</td>\n",
              "    </tr>\n",
              "    <tr>\n",
              "      <th>8</th>\n",
              "      <td>0.0</td>\n",
              "      <td>0.0</td>\n",
              "      <td>0.0</td>\n",
              "      <td>0.0</td>\n",
              "      <td>0.0</td>\n",
              "      <td>0.0</td>\n",
              "      <td>0.0</td>\n",
              "      <td>0.0</td>\n",
              "      <td>0</td>\n",
              "      <td>0.0</td>\n",
              "      <td>...</td>\n",
              "      <td>0</td>\n",
              "      <td>0.0</td>\n",
              "      <td>0.0</td>\n",
              "      <td>0.0</td>\n",
              "      <td>7.4</td>\n",
              "      <td>6.4</td>\n",
              "      <td>6.2</td>\n",
              "      <td>0.0</td>\n",
              "      <td>0.0</td>\n",
              "      <td>C9CD6314XPvAibaEXe8LX4hhYKrFZr9FZE839SqA</td>\n",
              "    </tr>\n",
              "    <tr>\n",
              "      <th>9</th>\n",
              "      <td>5.0</td>\n",
              "      <td>7.1</td>\n",
              "      <td>0.0</td>\n",
              "      <td>0.0</td>\n",
              "      <td>0.0</td>\n",
              "      <td>0.0</td>\n",
              "      <td>0.0</td>\n",
              "      <td>0.0</td>\n",
              "      <td>0</td>\n",
              "      <td>0.0</td>\n",
              "      <td>...</td>\n",
              "      <td>0</td>\n",
              "      <td>6.7</td>\n",
              "      <td>8.0</td>\n",
              "      <td>6.0</td>\n",
              "      <td>7.0</td>\n",
              "      <td>5.2</td>\n",
              "      <td>0.0</td>\n",
              "      <td>0.0</td>\n",
              "      <td>7.0</td>\n",
              "      <td>D78141E5XPvAibaEXe9j81k8MH0oJ4zch8KMTSfQ</td>\n",
              "    </tr>\n",
              "  </tbody>\n",
              "</table>\n",
              "<p>10 rows × 222 columns</p>\n",
              "</div>\n",
              "      <button class=\"colab-df-convert\" onclick=\"convertToInteractive('df-0421afa6-971d-40bd-aab0-3fa36252ad7e')\"\n",
              "              title=\"Convert this dataframe to an interactive table.\"\n",
              "              style=\"display:none;\">\n",
              "        \n",
              "  <svg xmlns=\"http://www.w3.org/2000/svg\" height=\"24px\"viewBox=\"0 0 24 24\"\n",
              "       width=\"24px\">\n",
              "    <path d=\"M0 0h24v24H0V0z\" fill=\"none\"/>\n",
              "    <path d=\"M18.56 5.44l.94 2.06.94-2.06 2.06-.94-2.06-.94-.94-2.06-.94 2.06-2.06.94zm-11 1L8.5 8.5l.94-2.06 2.06-.94-2.06-.94L8.5 2.5l-.94 2.06-2.06.94zm10 10l.94 2.06.94-2.06 2.06-.94-2.06-.94-.94-2.06-.94 2.06-2.06.94z\"/><path d=\"M17.41 7.96l-1.37-1.37c-.4-.4-.92-.59-1.43-.59-.52 0-1.04.2-1.43.59L10.3 9.45l-7.72 7.72c-.78.78-.78 2.05 0 2.83L4 21.41c.39.39.9.59 1.41.59.51 0 1.02-.2 1.41-.59l7.78-7.78 2.81-2.81c.8-.78.8-2.07 0-2.86zM5.41 20L4 18.59l7.72-7.72 1.47 1.35L5.41 20z\"/>\n",
              "  </svg>\n",
              "      </button>\n",
              "      \n",
              "  <style>\n",
              "    .colab-df-container {\n",
              "      display:flex;\n",
              "      flex-wrap:wrap;\n",
              "      gap: 12px;\n",
              "    }\n",
              "\n",
              "    .colab-df-convert {\n",
              "      background-color: #E8F0FE;\n",
              "      border: none;\n",
              "      border-radius: 50%;\n",
              "      cursor: pointer;\n",
              "      display: none;\n",
              "      fill: #1967D2;\n",
              "      height: 32px;\n",
              "      padding: 0 0 0 0;\n",
              "      width: 32px;\n",
              "    }\n",
              "\n",
              "    .colab-df-convert:hover {\n",
              "      background-color: #E2EBFA;\n",
              "      box-shadow: 0px 1px 2px rgba(60, 64, 67, 0.3), 0px 1px 3px 1px rgba(60, 64, 67, 0.15);\n",
              "      fill: #174EA6;\n",
              "    }\n",
              "\n",
              "    [theme=dark] .colab-df-convert {\n",
              "      background-color: #3B4455;\n",
              "      fill: #D2E3FC;\n",
              "    }\n",
              "\n",
              "    [theme=dark] .colab-df-convert:hover {\n",
              "      background-color: #434B5C;\n",
              "      box-shadow: 0px 1px 3px 1px rgba(0, 0, 0, 0.15);\n",
              "      filter: drop-shadow(0px 1px 2px rgba(0, 0, 0, 0.3));\n",
              "      fill: #FFFFFF;\n",
              "    }\n",
              "  </style>\n",
              "\n",
              "      <script>\n",
              "        const buttonEl =\n",
              "          document.querySelector('#df-0421afa6-971d-40bd-aab0-3fa36252ad7e button.colab-df-convert');\n",
              "        buttonEl.style.display =\n",
              "          google.colab.kernel.accessAllowed ? 'block' : 'none';\n",
              "\n",
              "        async function convertToInteractive(key) {\n",
              "          const element = document.querySelector('#df-0421afa6-971d-40bd-aab0-3fa36252ad7e');\n",
              "          const dataTable =\n",
              "            await google.colab.kernel.invokeFunction('convertToInteractive',\n",
              "                                                     [key], {});\n",
              "          if (!dataTable) return;\n",
              "\n",
              "          const docLinkHtml = 'Like what you see? Visit the ' +\n",
              "            '<a target=\"_blank\" href=https://colab.research.google.com/notebooks/data_table.ipynb>data table notebook</a>'\n",
              "            + ' to learn more about interactive tables.';\n",
              "          element.innerHTML = '';\n",
              "          dataTable['output_type'] = 'display_data';\n",
              "          await google.colab.output.renderOutput(dataTable, element);\n",
              "          const docLink = document.createElement('div');\n",
              "          docLink.innerHTML = docLinkHtml;\n",
              "          element.appendChild(docLink);\n",
              "        }\n",
              "      </script>\n",
              "    </div>\n",
              "  </div>\n",
              "  "
            ]
          },
          "metadata": {},
          "execution_count": 45
        }
      ]
    },
    {
      "cell_type": "code",
      "source": [
        "data_train[(data_train['mamh'] == course_grade_train.columns[4]) & (data_train['mssv'] == course_grade_train.loc[course_grade_train.index[4], 'mssv'])]"
      ],
      "metadata": {
        "colab": {
          "base_uri": "https://localhost:8080/",
          "height": 191
        },
        "id": "7xd0VV6cJO3a",
        "outputId": "66e9cdd5-a058-4b01-a160-4601a90093f4"
      },
      "execution_count": null,
      "outputs": [
        {
          "output_type": "execute_result",
          "data": {
            "text/plain": [
              "       level_0  index                                      mssv   mamh  \\\n",
              "14758    18902  21777  4CD37F46XPvAibaEXe8ge2UHv4J4Byyo6uzLKM42  CE103   \n",
              "\n",
              "            malop  sotc  namhoc  hocky  diem  trangthai  ...     noisinh  \\\n",
              "14758   CE103.G12     4    2015      1   6.7          1  ...   Thanh Hoá   \n",
              "\n",
              "           lopsh  khoa   hedt khoahoc chuyennganh2 tinhtrang  KhoaMH  \\\n",
              "14758   KTMT0001  KTMT   CQUI       8      D520214         3    KTMT   \n",
              "\n",
              "      namNhapHoc  soHocKy  \n",
              "14758       2013        5  \n",
              "\n",
              "[1 rows x 23 columns]"
            ],
            "text/html": [
              "\n",
              "  <div id=\"df-db820f74-6f69-406a-85ae-2539fed01da7\">\n",
              "    <div class=\"colab-df-container\">\n",
              "      <div>\n",
              "<style scoped>\n",
              "    .dataframe tbody tr th:only-of-type {\n",
              "        vertical-align: middle;\n",
              "    }\n",
              "\n",
              "    .dataframe tbody tr th {\n",
              "        vertical-align: top;\n",
              "    }\n",
              "\n",
              "    .dataframe thead th {\n",
              "        text-align: right;\n",
              "    }\n",
              "</style>\n",
              "<table border=\"1\" class=\"dataframe\">\n",
              "  <thead>\n",
              "    <tr style=\"text-align: right;\">\n",
              "      <th></th>\n",
              "      <th>level_0</th>\n",
              "      <th>index</th>\n",
              "      <th>mssv</th>\n",
              "      <th>mamh</th>\n",
              "      <th>malop</th>\n",
              "      <th>sotc</th>\n",
              "      <th>namhoc</th>\n",
              "      <th>hocky</th>\n",
              "      <th>diem</th>\n",
              "      <th>trangthai</th>\n",
              "      <th>...</th>\n",
              "      <th>noisinh</th>\n",
              "      <th>lopsh</th>\n",
              "      <th>khoa</th>\n",
              "      <th>hedt</th>\n",
              "      <th>khoahoc</th>\n",
              "      <th>chuyennganh2</th>\n",
              "      <th>tinhtrang</th>\n",
              "      <th>KhoaMH</th>\n",
              "      <th>namNhapHoc</th>\n",
              "      <th>soHocKy</th>\n",
              "    </tr>\n",
              "  </thead>\n",
              "  <tbody>\n",
              "    <tr>\n",
              "      <th>14758</th>\n",
              "      <td>18902</td>\n",
              "      <td>21777</td>\n",
              "      <td>4CD37F46XPvAibaEXe8ge2UHv4J4Byyo6uzLKM42</td>\n",
              "      <td>CE103</td>\n",
              "      <td>CE103.G12</td>\n",
              "      <td>4</td>\n",
              "      <td>2015</td>\n",
              "      <td>1</td>\n",
              "      <td>6.7</td>\n",
              "      <td>1</td>\n",
              "      <td>...</td>\n",
              "      <td>Thanh Hoá</td>\n",
              "      <td>KTMT0001</td>\n",
              "      <td>KTMT</td>\n",
              "      <td>CQUI</td>\n",
              "      <td>8</td>\n",
              "      <td>D520214</td>\n",
              "      <td>3</td>\n",
              "      <td>KTMT</td>\n",
              "      <td>2013</td>\n",
              "      <td>5</td>\n",
              "    </tr>\n",
              "  </tbody>\n",
              "</table>\n",
              "<p>1 rows × 23 columns</p>\n",
              "</div>\n",
              "      <button class=\"colab-df-convert\" onclick=\"convertToInteractive('df-db820f74-6f69-406a-85ae-2539fed01da7')\"\n",
              "              title=\"Convert this dataframe to an interactive table.\"\n",
              "              style=\"display:none;\">\n",
              "        \n",
              "  <svg xmlns=\"http://www.w3.org/2000/svg\" height=\"24px\"viewBox=\"0 0 24 24\"\n",
              "       width=\"24px\">\n",
              "    <path d=\"M0 0h24v24H0V0z\" fill=\"none\"/>\n",
              "    <path d=\"M18.56 5.44l.94 2.06.94-2.06 2.06-.94-2.06-.94-.94-2.06-.94 2.06-2.06.94zm-11 1L8.5 8.5l.94-2.06 2.06-.94-2.06-.94L8.5 2.5l-.94 2.06-2.06.94zm10 10l.94 2.06.94-2.06 2.06-.94-2.06-.94-.94-2.06-.94 2.06-2.06.94z\"/><path d=\"M17.41 7.96l-1.37-1.37c-.4-.4-.92-.59-1.43-.59-.52 0-1.04.2-1.43.59L10.3 9.45l-7.72 7.72c-.78.78-.78 2.05 0 2.83L4 21.41c.39.39.9.59 1.41.59.51 0 1.02-.2 1.41-.59l7.78-7.78 2.81-2.81c.8-.78.8-2.07 0-2.86zM5.41 20L4 18.59l7.72-7.72 1.47 1.35L5.41 20z\"/>\n",
              "  </svg>\n",
              "      </button>\n",
              "      \n",
              "  <style>\n",
              "    .colab-df-container {\n",
              "      display:flex;\n",
              "      flex-wrap:wrap;\n",
              "      gap: 12px;\n",
              "    }\n",
              "\n",
              "    .colab-df-convert {\n",
              "      background-color: #E8F0FE;\n",
              "      border: none;\n",
              "      border-radius: 50%;\n",
              "      cursor: pointer;\n",
              "      display: none;\n",
              "      fill: #1967D2;\n",
              "      height: 32px;\n",
              "      padding: 0 0 0 0;\n",
              "      width: 32px;\n",
              "    }\n",
              "\n",
              "    .colab-df-convert:hover {\n",
              "      background-color: #E2EBFA;\n",
              "      box-shadow: 0px 1px 2px rgba(60, 64, 67, 0.3), 0px 1px 3px 1px rgba(60, 64, 67, 0.15);\n",
              "      fill: #174EA6;\n",
              "    }\n",
              "\n",
              "    [theme=dark] .colab-df-convert {\n",
              "      background-color: #3B4455;\n",
              "      fill: #D2E3FC;\n",
              "    }\n",
              "\n",
              "    [theme=dark] .colab-df-convert:hover {\n",
              "      background-color: #434B5C;\n",
              "      box-shadow: 0px 1px 3px 1px rgba(0, 0, 0, 0.15);\n",
              "      filter: drop-shadow(0px 1px 2px rgba(0, 0, 0, 0.3));\n",
              "      fill: #FFFFFF;\n",
              "    }\n",
              "  </style>\n",
              "\n",
              "      <script>\n",
              "        const buttonEl =\n",
              "          document.querySelector('#df-db820f74-6f69-406a-85ae-2539fed01da7 button.colab-df-convert');\n",
              "        buttonEl.style.display =\n",
              "          google.colab.kernel.accessAllowed ? 'block' : 'none';\n",
              "\n",
              "        async function convertToInteractive(key) {\n",
              "          const element = document.querySelector('#df-db820f74-6f69-406a-85ae-2539fed01da7');\n",
              "          const dataTable =\n",
              "            await google.colab.kernel.invokeFunction('convertToInteractive',\n",
              "                                                     [key], {});\n",
              "          if (!dataTable) return;\n",
              "\n",
              "          const docLinkHtml = 'Like what you see? Visit the ' +\n",
              "            '<a target=\"_blank\" href=https://colab.research.google.com/notebooks/data_table.ipynb>data table notebook</a>'\n",
              "            + ' to learn more about interactive tables.';\n",
              "          element.innerHTML = '';\n",
              "          dataTable['output_type'] = 'display_data';\n",
              "          await google.colab.output.renderOutput(dataTable, element);\n",
              "          const docLink = document.createElement('div');\n",
              "          docLink.innerHTML = docLinkHtml;\n",
              "          element.appendChild(docLink);\n",
              "        }\n",
              "      </script>\n",
              "    </div>\n",
              "  </div>\n",
              "  "
            ]
          },
          "metadata": {},
          "execution_count": 49
        }
      ]
    },
    {
      "cell_type": "code",
      "source": [
        "course_grade_train.columns[4], course_grade_train.index[4]"
      ],
      "metadata": {
        "colab": {
          "base_uri": "https://localhost:8080/"
        },
        "id": "Dc9KQLlJJyGF",
        "outputId": "1822bd3f-036b-40d7-e97e-5835f3f7b9db"
      },
      "execution_count": null,
      "outputs": [
        {
          "output_type": "execute_result",
          "data": {
            "text/plain": [
              "('CE103', 4)"
            ]
          },
          "metadata": {},
          "execution_count": 48
        }
      ]
    }
  ]
}